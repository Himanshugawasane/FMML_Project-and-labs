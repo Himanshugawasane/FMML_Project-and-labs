{
  "nbformat": 4,
  "nbformat_minor": 0,
  "metadata": {
    "colab": {
      "provenance": [],
      "authorship_tag": "ABX9TyMx0nY0vVelH+HQYx1xd40X",
      "include_colab_link": true
    },
    "kernelspec": {
      "name": "python3",
      "display_name": "Python 3"
    },
    "language_info": {
      "name": "python"
    }
  },
  "cells": [
    {
      "cell_type": "markdown",
      "metadata": {
        "id": "view-in-github",
        "colab_type": "text"
      },
      "source": [
        "<a href=\"https://colab.research.google.com/github/Himanshugawasane/FMML_Project-and-labs/blob/main/Untitled0.ipynb\" target=\"_parent\"><img src=\"https://colab.research.google.com/assets/colab-badge.svg\" alt=\"Open In Colab\"/></a>"
      ]
    },
    {
      "cell_type": "code",
      "execution_count": 9,
      "metadata": {
        "colab": {
          "base_uri": "https://localhost:8080/"
        },
        "id": "gywAWW9g3ZET",
        "outputId": "18184866-bbb3-4d22-cc6e-581e9ce92afa"
      },
      "outputs": [
        {
          "output_type": "stream",
          "name": "stdout",
          "text": [
            "euclidean = 5.0\n",
            "manhattan dist = 7\n",
            "Minkowski distance when p=3 is  4.497941445275415\n",
            "Minkowski distance when p=1 is  7.0\n",
            "Minkowski distance when p=2 is  5.0\n",
            "hamming distance = 7.0\n"
          ]
        }
      ],
      "source": [
        "import numpy as np\n",
        "import pandas as pd\n",
        "import math\n",
        "from scipy.spatial import distance\n",
        "import matplotlib.pyplot as plt\n",
        "x_1 = np.array((1, 2))\n",
        "x_2 = np.array((4, 6))\n",
        "\n",
        "euclidean_dist =np.linalg.norm(x_1 - x_2)\n",
        "print(\"euclidean =\",euclidean_dist)\n",
        "\n",
        "\n",
        "x_1 = np.array((1, 2))\n",
        "x_2 = np.array((4, 6))\n",
        "manhattan_dist = np.sum(np.abs((x_1 - x_2)))\n",
        "print(\"manhattan dist =\",manhattan_dist)\n",
        "\n",
        "x_1 = np.array((1, 2))\n",
        "x_2 = np.array((4, 6))\n",
        "minkowski_distance = distance.minkowski(x_1, x_2, p=3)\n",
        "print(\"Minkowski distance when p=3 is \",minkowski_distance)\n",
        "\n",
        "\n",
        "minkowski_dist_p1 = distance.minkowski(x_1,x_2,p=1)\n",
        "print(\"Minkowski distance when p=1 is \",minkowski_dist_p1)\n",
        "minkowski_dist_p2 = distance.minkowski(x_1,x_2,p=2)\n",
        "print(\"Minkowski distance when p=2 is \",minkowski_dist_p2)\n",
        "\n",
        "\n",
        "str_1 = 'euclidean'\n",
        "str_2 = 'manhattan'\n",
        "hamming_dist = distance.hamming(list(str_1), list(str_2)) * len(str_1)\n",
        "print(\"hamming distance =\",hamming_dist)\n"
      ]
    }
  ]
}